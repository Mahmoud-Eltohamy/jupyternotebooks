{
 "cells": [
  {
   "cell_type": "code",
   "execution_count": null,
   "metadata": {},
   "outputs": [],
   "source": [
    "*** Settings ***\n",
    "Resource          ../resources/common.robot\n",
    "Resource          ../resources/pages/login_po.robot\n",
    "Resource          ../resources/steps/login_steps.robot\n",
    "Test Setup        Open Login Page Using Chrome Browser\n",
    "Test Teardown     Close Browser\n",
    "\n",
    "*** Variables ***\n",
    "${valid_username}       Yazid_Akun_Testing\n",
    "${valid_password}       YOUR_VALID_PASSWORD\n",
    "${invalid_data}         qwerty\n"
   ]
  }
 ],
 "metadata": {
  "kernelspec": {
   "display_name": "Robot Framework",
   "language": "robotframework",
   "name": "robotkernel"
  },
  "language_info": {
   "codemirror_mode": "robotframework",
   "file_extension": ".robot",
   "mimetype": "text/plain",
   "name": "Robot Framework",
   "pygments_lexer": "robotframework"
  }
 },
 "nbformat": 4,
 "nbformat_minor": 4
}
