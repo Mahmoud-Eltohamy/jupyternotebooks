{
 "cells": [
  {
   "cell_type": "code",
   "execution_count": null,
   "metadata": {},
   "outputs": [],
   "source": [
    "\n",
    "*** Keywords ***\n",
    "Login with Valid Credentials\n",
    "  [Arguments]   ${username}   ${password}\n",
    "  Given Login Page Opened\n",
    "  When Input ${username} And ${password}        \n",
    "  THEN Welcome Message Displayed\n",
    "\n",
    "Login with Invalid Credentials\n",
    "  [Arguments]   ${username}   ${password}\n",
    "  GIVEN Login Page Opened\n",
    "  WHEN Input ${username} And ${password}        \n",
    "  THEN Error Message Displayed\n",
    "\n",
    "*** Test Cases ***\n",
    "Valid Login\n",
    "  [Template]    Login with Valid Credentials\n",
    "  ${valid_username}   ${valid_password}\n",
    "\n",
    "Invalid Login\n",
    "  [Template]    Login with Invalid Credentials\n",
    "  ${valid_username}   ${invalid_data}\n",
    "  ${invalid_data}   ${valid_password}\n",
    "  ${invalid_data}   ${invalid_data}"
   ]
  }
 ],
 "metadata": {
  "kernelspec": {
   "display_name": "Robot Framework",
   "language": "robotframework",
   "name": "robotkernel"
  },
  "language_info": {
   "codemirror_mode": "robotframework",
   "file_extension": ".robot",
   "mimetype": "text/plain",
   "name": "Robot Framework",
   "pygments_lexer": "robotframework"
  }
 },
 "nbformat": 4,
 "nbformat_minor": 4
}
